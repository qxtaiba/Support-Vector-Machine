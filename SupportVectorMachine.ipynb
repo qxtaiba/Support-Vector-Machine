{
  "nbformat": 4,
  "nbformat_minor": 0,
  "metadata": {
    "colab": {
      "name": "AlNuaimy_LabTwo",
      "provenance": [],
      "collapsed_sections": []
    },
    "kernelspec": {
      "name": "python3",
      "display_name": "Python 3"
    }
  },
  "cells": [
    {
      "cell_type": "markdown",
      "metadata": {
        "id": "i9j3zHVWIxAo",
        "colab_type": "text"
      },
      "source": [
        "### **Hard Margin Case**"
      ]
    },
    {
      "cell_type": "code",
      "metadata": {
        "id": "h2dtnxMPI3N3",
        "colab_type": "code",
        "outputId": "481ba438-1abc-4dc6-850e-acb96a2a8578",
        "colab": {
          "base_uri": "https://localhost:8080/",
          "height": 551
        }
      },
      "source": [
        "import numpy as np\n",
        "import csv\n",
        "import cvxopt\n",
        "from numpy import genfromtxt\n",
        "import matplotlib.pyplot as plt\n",
        "from cvxopt import matrix, solvers\n",
        "import heapq\n",
        "\n",
        "plt.figure(figsize = (15,9))\n",
        "\n",
        "\n",
        "X = np.genfromtxt(\"X.csv\",delimiter=\",\")\n",
        "y = np.genfromtxt(\"y.csv\",delimiter=\",\")\n",
        "\n",
        "idx_1 = np.where(y == 1)\n",
        "idx_2 = np.where(y == -1)\n",
        "\n",
        "plt.scatter(X[idx_1,0], X[idx_1,1], s=30, c='b', marker=\"o\", label=\"y=1\")\n",
        "plt.scatter(X[idx_2,0], X[idx_2,1], s=30, c='g', marker=\"o\", label=\"y=-1\")\n",
        "\n",
        "plt.xlabel(\"x1\")\n",
        "plt.ylabel(\"x2\")\n",
        "plt.gca().legend()\n",
        "plt.show()\n"
      ],
      "execution_count": 0,
      "outputs": [
        {
          "output_type": "display_data",
          "data": {
            "image/png": "[encoded data removed]",
            "text/plain": [
              "<Figure size 1080x648 with 1 Axes>"
            ]
          },
          "metadata": {
            "tags": []
          }
        }
      ]
    },
    {
      "cell_type": "code",
      "metadata": {
        "id": "GoSLP0yeI36O",
        "colab_type": "code",
        "outputId": "db1f60c0-f2d3-47cf-d195-ad5de5efe491",
        "colab": {
          "base_uri": "https://localhost:8080/",
          "height": 71
        }
      },
      "source": [
        "def linear_svm(X,y):\n",
        "    solvers.options['show_progress'] = False\n",
        "\n",
        "    N = X.shape[0]\n",
        "    F = X.shape[1]\n",
        "\n",
        "    Q = np.zeros((F+1,F+1))\n",
        "\n",
        "    for row in range(Q.shape[0]):\n",
        "      for col in range(Q.shape[1]):\n",
        "          if row == 0 or col == 0: \n",
        "              Q[row,col] = 0\n",
        "          elif row == col: \n",
        "              Q[row,col] = 1\n",
        "          else: \n",
        "              Q[row,col] = 0\n",
        "        \n",
        "    P = cvxopt.matrix(Q)\n",
        "    q = cvxopt.matrix(np.zeros(F+1))\n",
        "\n",
        "    emptyList = []\n",
        "\n",
        "    for n in range(N):\n",
        "        zeroMatrix = np.zeros((F+1))\n",
        "        for index,value in enumerate(zeroMatrix):\n",
        "            if index == 0: \n",
        "                zeroMatrix[index] = 1\n",
        "            else: \n",
        "                zeroMatrix[index] = X[n].T[index-1]\n",
        "        emptyList.append(y[n]*zeroMatrix)\n",
        "\n",
        "    npEmptyList = np.asarray(emptyList) * -1\n",
        "    G = cvxopt.matrix(npEmptyList)\n",
        "    h = cvxopt.matrix(np.ones(N)*-1)\n",
        "    QPsol = cvxopt.solvers.qp(P,q,G,h)\n",
        "    alphas = np.array(QPsol[\"x\"])\n",
        "    return QPsol, alphas\n",
        "  \n",
        "QPSol, alphas = linear_svm(X,y)\n",
        "print(\"Alpha Values:\",alphas[0],alphas[1],alphas[2])\n",
        "print(\"QP Solution Values:\",QPSol)\n"
      ],
      "execution_count": 0,
      "outputs": [
        {
          "output_type": "stream",
          "text": [
            "Alpha Values: [0.46118099] [1.42189318] [-1.58830104]\n",
            "QP Solution Values: {'x': <3x1 matrix, tc='d'>, 'y': <0x1 matrix, tc='d'>, 's': <100x1 matrix, tc='d'>, 'z': <100x1 matrix, tc='d'>, 'status': 'optimal', 'gap': 3.9831961345171e-08, 'relative gap': 1.752982005305458e-08, 'primal objective': 2.2722402117323757, 'dual objective': 2.272240172723864, 'primal infeasibility': 1.8119735781362242e-10, 'dual infeasibility': 2.177613049267418e-08, 'primal slack': 5.886863079444381e-11, 'dual slack': 2.59735817141305e-11, 'iterations': 6}\n"
          ],
          "name": "stdout"
        }
      ]
    },
    {
      "cell_type": "markdown",
      "metadata": {
        "id": "RBej8iYxI4dd",
        "colab_type": "text"
      },
      "source": [
        "### **Plotting Decision Boundary**"
      ]
    },
    {
      "cell_type": "code",
      "metadata": {
        "id": "IzbYscLZJq-t",
        "colab_type": "code",
        "outputId": "210797e7-a5b0-487b-d09f-698025583a7b",
        "colab": {
          "base_uri": "https://localhost:8080/",
          "height": 551
        }
      },
      "source": [
        "def plot_data_with_decision_boundary(X, y, alphas, fig_size, labels=['x1', 'x2']):\n",
        "    \n",
        "    plt.figure(figsize = fig_size)\n",
        "\n",
        "    idx_1 = np.where(y == 1)\n",
        "    idx_2 = np.where(y == -1)\n",
        "\n",
        "    x = np.arange(0,5)\n",
        "\n",
        "    plt.scatter(X[idx_1,0], X[idx_1,1], s=30, c='b', marker=\"o\", label=\"y=1\")\n",
        "    plt.scatter(X[idx_2,0], X[idx_2,1], s=30, c='g', marker=\"o\", label=\"y=-1\")\n",
        "\n",
        "    decisionBoundarySlope = -alphas[1]/alphas[2]\n",
        "    decisionBoundaryIntercept = -alphas[0]/alphas[2]\n",
        "    \n",
        "    plt.plot(x,x*decisionBoundarySlope + decisionBoundaryIntercept, \"r\", label=\"decision boundary\")\n",
        "\n",
        "    plt.xlabel(labels[0])\n",
        "    plt.ylabel(labels[1])\n",
        " \n",
        "    plt.gca().legend()\n",
        "\n",
        "plot_data_with_decision_boundary(X,y,alphas,(15,9),labels=[\"x1\",\"x2\"])\n"
      ],
      "execution_count": 0,
      "outputs": [
        {
          "output_type": "display_data",
          "data": {
            "image/png": "[encoded data removed]",
            "text/plain": [
              "<Figure size 1080x648 with 1 Axes>"
            ]
          },
          "metadata": {
            "tags": []
          }
        }
      ]
    },
    {
      "cell_type": "code",
      "metadata": {
        "id": "F3cGEoWQbgam",
        "colab_type": "code",
        "outputId": "275acd8b-4185-4446-f302-1f0b9bb00f6a",
        "colab": {
          "base_uri": "https://localhost:8080/",
          "height": 68
        }
      },
      "source": [
        "print(\"The decision boundary above has equation: f(x) =\",-alphas[1]/alphas[2],\"* x +\", -alphas[0]/alphas[2])\n",
        "print(\"Gradient:\",-alphas[1]/alphas[2])\n",
        "print(\"Intercept:\",-alphas[0]/alphas[2])"
      ],
      "execution_count": 0,
      "outputs": [
        {
          "output_type": "stream",
          "text": [
            "The decision boundary above has equation: f(x) = [0.89522902] * x + [0.29036119]\n",
            "Gradient: [0.89522902]\n",
            "Intercept: [0.29036119]\n"
          ],
          "name": "stdout"
        }
      ]
    },
    {
      "cell_type": "code",
      "metadata": {
        "id": "SIlFYR8lKV2a",
        "colab_type": "code",
        "colab": {}
      },
      "source": [
        "def distance(x):\n",
        "    decisionBoundarySlope = -alphas[1]/alphas[2]\n",
        "    decisionBoundaryIntercept = -alphas[0]/alphas[2]\n",
        "\n",
        "    pointATemp = decisionBoundarySlope * 2 + decisionBoundaryIntercept\n",
        "    pointBTemp = decisionBoundarySlope * 3 + decisionBoundaryIntercept\n",
        "\n",
        "    pointA,pointB = np.array([2, pointATemp[0]]),np.array([3, pointBTemp[0]])\n",
        "    distanceVal = np.linalg.norm(np.cross(pointB-pointA, pointA-x))/np.linalg.norm(pointB-pointA)\n",
        "\n",
        "    return distanceVal\n",
        "\n",
        "distanceValues = [] \n",
        "\n",
        "for i in range(X.shape[0]):\n",
        "    distanceValues.append([distance(X[i]),X[i],i])\n",
        "    \n",
        "heapq.heapify(distanceValues)"
      ],
      "execution_count": 0,
      "outputs": []
    },
    {
      "cell_type": "code",
      "metadata": {
        "id": "nyjrJnN7dMq_",
        "colab_type": "code",
        "outputId": "fcee6882-e432-4e59-a167-728c4998586d",
        "colab": {
          "base_uri": "https://localhost:8080/",
          "height": 136
        }
      },
      "source": [
        "print(\"The points closest to the decision boundary:\\n\")\n",
        "print(\"Point:\",distanceValues[0][1],\", Distance:\",distanceValues[0][0])\n",
        "print(\"Point:\",distanceValues[1][1],\", Distance:\",distanceValues[1][0])\n",
        "print(\"Point:\",distanceValues[2][1],\", Distance:\",distanceValues[2][0])\n",
        "print(\"Point:\",distanceValues[3][1],\", Distance:\",distanceValues[3][0])\n",
        "print(\"Point:\",distanceValues[4][1],\", Distance:\",distanceValues[4][0])\n"
      ],
      "execution_count": 0,
      "outputs": [
        {
          "output_type": "stream",
          "text": [
            "The points closest to the decision boundary:\n",
            "\n",
            "Point: [1.71138733 2.45204836] , Distance: 0.4690918434130657\n",
            "Point: [2.56588054 1.74739173] , Distance: 0.6258646402543528\n",
            "Point: [2.51879639 1.91565724] , Distance: 0.46909184430848594\n",
            "Point: [1.41010586 2.44024273] , Distance: 0.6612502393871535\n",
            "Point: [2.31525388 1.46101804] , Distance: 0.672062356633359\n"
          ],
          "name": "stdout"
        }
      ]
    },
    {
      "cell_type": "markdown",
      "metadata": {
        "id": "1Mzu31j5bjZW",
        "colab_type": "text"
      },
      "source": [
        "SVM provides an optimal  hyperplane that maximises the distance between the two classes on the training data. \n",
        "\n",
        "The fprimal(x) function is used to predict the label of different coordinates. \n"
      ]
    },
    {
      "cell_type": "code",
      "metadata": {
        "id": "AdSlXcEUJ-OM",
        "colab_type": "code",
        "outputId": "728fe88e-110f-4a9c-ba8b-7a5bfa8f7c3d",
        "colab": {
          "base_uri": "https://localhost:8080/",
          "height": 351
        }
      },
      "source": [
        "def f_primal(x): \n",
        "    wCoefficeints, bVal = [alphas[1], alphas[2]], alphas[2]\n",
        "    yVal = np.dot(x,wCoefficeints) + bVal\n",
        "    if yVal > 0:\n",
        "      return 1\n",
        "    else:\n",
        "      return -1\n",
        "\n",
        "fPrimalOne = f_primal((3.0,1.5))\n",
        "fPrimalTwo = f_primal((1.2,3.0))\n",
        "\n",
        "print (\"(3.0,1.5) has label prediction:\",fPrimalOne)\n",
        "print (\"(1.2,3.0) has label prediction:\", fPrimalTwo)"
      ],
      "execution_count": 1,
      "outputs": [
        {
          "output_type": "error",
          "ename": "NameError",
          "evalue": "ignored",
          "traceback": [
            "\u001b[0;31m---------------------------------------------------------------------------\u001b[0m",
            "\u001b[0;31mNameError\u001b[0m                                 Traceback (most recent call last)",
            "\u001b[0;32m<ipython-input-1-96c13dbe6e4c>\u001b[0m in \u001b[0;36m<module>\u001b[0;34m()\u001b[0m\n\u001b[1;32m      7\u001b[0m       \u001b[0;32mreturn\u001b[0m \u001b[0;34m-\u001b[0m\u001b[0;36m1\u001b[0m\u001b[0;34m\u001b[0m\u001b[0;34m\u001b[0m\u001b[0m\n\u001b[1;32m      8\u001b[0m \u001b[0;34m\u001b[0m\u001b[0m\n\u001b[0;32m----> 9\u001b[0;31m \u001b[0mfPrimalOne\u001b[0m \u001b[0;34m=\u001b[0m \u001b[0mf_primal\u001b[0m\u001b[0;34m(\u001b[0m\u001b[0;34m(\u001b[0m\u001b[0;36m3.0\u001b[0m\u001b[0;34m,\u001b[0m\u001b[0;36m1.5\u001b[0m\u001b[0;34m)\u001b[0m\u001b[0;34m)\u001b[0m\u001b[0;34m\u001b[0m\u001b[0;34m\u001b[0m\u001b[0m\n\u001b[0m\u001b[1;32m     10\u001b[0m \u001b[0mfPrimalTwo\u001b[0m \u001b[0;34m=\u001b[0m \u001b[0mf_primal\u001b[0m\u001b[0;34m(\u001b[0m\u001b[0;34m(\u001b[0m\u001b[0;36m1.2\u001b[0m\u001b[0;34m,\u001b[0m\u001b[0;36m3.0\u001b[0m\u001b[0;34m)\u001b[0m\u001b[0;34m)\u001b[0m\u001b[0;34m\u001b[0m\u001b[0;34m\u001b[0m\u001b[0m\n\u001b[1;32m     11\u001b[0m \u001b[0;34m\u001b[0m\u001b[0m\n",
            "\u001b[0;32m<ipython-input-1-96c13dbe6e4c>\u001b[0m in \u001b[0;36mf_primal\u001b[0;34m(x)\u001b[0m\n\u001b[1;32m      1\u001b[0m \u001b[0;32mdef\u001b[0m \u001b[0mf_primal\u001b[0m\u001b[0;34m(\u001b[0m\u001b[0mx\u001b[0m\u001b[0;34m)\u001b[0m\u001b[0;34m:\u001b[0m\u001b[0;34m\u001b[0m\u001b[0;34m\u001b[0m\u001b[0m\n\u001b[0;32m----> 2\u001b[0;31m     \u001b[0mwCoefficeints\u001b[0m\u001b[0;34m,\u001b[0m \u001b[0mbVal\u001b[0m \u001b[0;34m=\u001b[0m \u001b[0;34m[\u001b[0m\u001b[0malphas\u001b[0m\u001b[0;34m[\u001b[0m\u001b[0;36m1\u001b[0m\u001b[0;34m]\u001b[0m\u001b[0;34m,\u001b[0m \u001b[0malphas\u001b[0m\u001b[0;34m[\u001b[0m\u001b[0;36m2\u001b[0m\u001b[0;34m]\u001b[0m\u001b[0;34m]\u001b[0m\u001b[0;34m,\u001b[0m \u001b[0malphas\u001b[0m\u001b[0;34m[\u001b[0m\u001b[0;36m2\u001b[0m\u001b[0;34m]\u001b[0m\u001b[0;34m\u001b[0m\u001b[0;34m\u001b[0m\u001b[0m\n\u001b[0m\u001b[1;32m      3\u001b[0m     \u001b[0myVal\u001b[0m \u001b[0;34m=\u001b[0m \u001b[0mnp\u001b[0m\u001b[0;34m.\u001b[0m\u001b[0mdot\u001b[0m\u001b[0;34m(\u001b[0m\u001b[0mx\u001b[0m\u001b[0;34m,\u001b[0m\u001b[0mwCoefficeints\u001b[0m\u001b[0;34m)\u001b[0m \u001b[0;34m+\u001b[0m \u001b[0mbVal\u001b[0m\u001b[0;34m\u001b[0m\u001b[0;34m\u001b[0m\u001b[0m\n\u001b[1;32m      4\u001b[0m     \u001b[0;32mif\u001b[0m \u001b[0myVal\u001b[0m \u001b[0;34m>\u001b[0m \u001b[0;36m0\u001b[0m\u001b[0;34m:\u001b[0m\u001b[0;34m\u001b[0m\u001b[0;34m\u001b[0m\u001b[0m\n\u001b[1;32m      5\u001b[0m       \u001b[0;32mreturn\u001b[0m \u001b[0;36m1\u001b[0m\u001b[0;34m\u001b[0m\u001b[0;34m\u001b[0m\u001b[0m\n",
            "\u001b[0;31mNameError\u001b[0m: name 'alphas' is not defined"
          ]
        }
      ]
    }
  ]
}